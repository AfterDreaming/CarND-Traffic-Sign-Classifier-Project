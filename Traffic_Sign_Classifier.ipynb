{
 "cells": [
  {
   "cell_type": "markdown",
   "metadata": {},
   "source": [
    "# Self-Driving Car Engineer Nanodegree\n",
    "\n",
    "## Deep Learning\n",
    "\n",
    "## Project: Build a Traffic Sign Recognition Classifier\n",
    "\n",
    "In this notebook, a template is provided for you to implement your functionality in stages, which is required to successfully complete this project. If additional code is required that cannot be included in the notebook, be sure that the Python code is successfully imported and included in your submission if necessary. \n",
    "\n",
    "> **Note**: Once you have completed all of the code implementations, you need to finalize your work by exporting the iPython Notebook as an HTML document. Before exporting the notebook to html, all of the code cells need to have been run so that reviewers can see the final implementation and output. You can then export the notebook by using the menu above and navigating to  \\n\",\n",
    "    \"**File -> Download as -> HTML (.html)**. Include the finished document along with this notebook as your submission. \n",
    "\n",
    "In addition to implementing code, there is a writeup to complete. The writeup should be completed in a separate file, which can be either a markdown file or a pdf document. There is a [write up template](https://github.com/udacity/CarND-Traffic-Sign-Classifier-Project/blob/master/writeup_template.md) that can be used to guide the writing process. Completing the code template and writeup template will cover all of the [rubric points](https://review.udacity.com/#!/rubrics/481/view) for this project.\n",
    "\n",
    "The [rubric](https://review.udacity.com/#!/rubrics/481/view) contains \"Stand Out Suggestions\" for enhancing the project beyond the minimum requirements. The stand out suggestions are optional. If you decide to pursue the \"stand out suggestions\", you can include the code in this Ipython notebook and also discuss the results in the writeup file.\n",
    "\n",
    "\n",
    ">**Note:** Code and Markdown cells can be executed using the **Shift + Enter** keyboard shortcut. In addition, Markdown cells can be edited by typically double-clicking the cell to enter edit mode."
   ]
  },
  {
   "cell_type": "markdown",
   "metadata": {},
   "source": [
    "---\n",
    "## Step 0: Load The Data"
   ]
  },
  {
   "cell_type": "code",
   "execution_count": 1,
   "metadata": {
    "collapsed": true
   },
   "outputs": [],
   "source": [
    "# Load pickled data\n",
    "import pickle\n",
    "\n",
    "# TODO: Fill this in based on where you saved the training and testing data\n",
    "\n",
    "training_file = \"./data/train.p\"\n",
    "validation_file= \"./data/valid.p\"\n",
    "testing_file = \"./data/test.p\"\n",
    "\n",
    "with open(training_file, mode='rb') as f:\n",
    "    train = pickle.load(f)\n",
    "with open(validation_file, mode='rb') as f:\n",
    "    valid = pickle.load(f)\n",
    "with open(testing_file, mode='rb') as f:\n",
    "    test = pickle.load(f)\n",
    "    \n",
    "X_train, y_train = train['features'], train['labels']\n",
    "X_valid, y_valid = valid['features'], valid['labels']\n",
    "X_test, y_test = test['features'], test['labels']\n"
   ]
  },
  {
   "cell_type": "markdown",
   "metadata": {},
   "source": [
    "---\n",
    "\n",
    "## Step 1: Dataset Summary & Exploration\n",
    "\n",
    "The pickled data is a dictionary with 4 key/value pairs:\n",
    "\n",
    "- `'features'` is a 4D array containing raw pixel data of the traffic sign images, (num examples, width, height, channels).\n",
    "- `'labels'` is a 1D array containing the label/class id of the traffic sign. The file `signnames.csv` contains id -> name mappings for each id.\n",
    "- `'sizes'` is a list containing tuples, (width, height) representing the original width and height the image.\n",
    "- `'coords'` is a list containing tuples, (x1, y1, x2, y2) representing coordinates of a bounding box around the sign in the image. **THESE COORDINATES ASSUME THE ORIGINAL IMAGE. THE PICKLED DATA CONTAINS RESIZED VERSIONS (32 by 32) OF THESE IMAGES**\n",
    "\n",
    "Complete the basic data summary below. Use python, numpy and/or pandas methods to calculate the data summary rather than hard coding the results. For example, the [pandas shape method](http://pandas.pydata.org/pandas-docs/stable/generated/pandas.DataFrame.shape.html) might be useful for calculating some of the summary results. "
   ]
  },
  {
   "cell_type": "markdown",
   "metadata": {},
   "source": [
    "### Provide a Basic Summary of the Data Set Using Python, Numpy and/or Pandas"
   ]
  },
  {
   "cell_type": "code",
   "execution_count": 2,
   "metadata": {},
   "outputs": [
    {
     "name": "stdout",
     "output_type": "stream",
     "text": [
      "Number of training examples = 34799\n",
      "Number of validation examples = 4410\n",
      "Number of testing examples = 12630\n",
      "Image data shape = (32, 32, 3)\n",
      "Number of classes = 43\n"
     ]
    }
   ],
   "source": [
    "### Replace each question mark with the appropriate value. \n",
    "### Use python, pandas or numpy methods rather than hard coding the results\n",
    "\n",
    "# TODO: Number of training examples\n",
    "n_train = X_train.shape[0]\n",
    "\n",
    "# TODO: Number of validation examples\n",
    "n_validation = X_valid.shape[0]\n",
    "\n",
    "# TODO: Number of testing examples.\n",
    "n_test = X_test.shape[0]\n",
    "\n",
    "# TODO: What's the shape of an traffic sign image?\n",
    "image_shape = X_train[0].shape\n",
    "\n",
    "# TODO: How many unique classes/labels there are in the dataset.\n",
    "n_classes = len(set(y_train))\n",
    "\n",
    "print(\"Number of training examples =\", n_train)\n",
    "print(\"Number of validation examples =\", n_validation)\n",
    "print(\"Number of testing examples =\", n_test)\n",
    "print(\"Image data shape =\", image_shape)\n",
    "print(\"Number of classes =\", n_classes)"
   ]
  },
  {
   "cell_type": "markdown",
   "metadata": {},
   "source": [
    "### Include an exploratory visualization of the dataset"
   ]
  },
  {
   "cell_type": "markdown",
   "metadata": {},
   "source": [
    "Visualize the German Traffic Signs Dataset using the pickled file(s). This is open ended, suggestions include: plotting traffic sign images, plotting the count of each sign, etc. \n",
    "\n",
    "The [Matplotlib](http://matplotlib.org/) [examples](http://matplotlib.org/examples/index.html) and [gallery](http://matplotlib.org/gallery.html) pages are a great resource for doing visualizations in Python.\n",
    "\n",
    "**NOTE:** It's recommended you start with something simple first. If you wish to do more, come back to it after you've completed the rest of the sections. It can be interesting to look at the distribution of classes in the training, validation and test set. Is the distribution the same? Are there more examples of some classes than others?"
   ]
  },
  {
   "cell_type": "code",
   "execution_count": 3,
   "metadata": {},
   "outputs": [
    {
     "name": "stdout",
     "output_type": "stream",
     "text": [
      "{'13': 'Yield', '42': 'End of no passing by vehicles over 3.5 metric tons', '41': 'End of no passing', '31': 'Wild animals crossing', '12': 'Priority road', '5': 'Speed limit (80km/h)', '18': 'General caution', '9': 'No passing', '11': 'Right-of-way at the next intersection', '34': 'Turn left ahead', '25': 'Road work', '14': 'Stop', '40': 'Roundabout mandatory', '28': 'Children crossing', '30': 'Beware of ice/snow', '37': 'Go straight or left', '27': 'Pedestrians', '17': 'No entry', '32': 'End of all speed and passing limits', '15': 'No vehicles', '16': 'Vehicles over 3.5 metric tons prohibited', '22': 'Bumpy road', '7': 'Speed limit (100km/h)', '2': 'Speed limit (50km/h)', '3': 'Speed limit (60km/h)', '4': 'Speed limit (70km/h)', '24': 'Road narrows on the right', '39': 'Keep left', '10': 'No passing for vehicles over 3.5 metric tons', '20': 'Dangerous curve to the right', '1': 'Speed limit (30km/h)', '8': 'Speed limit (120km/h)', '0': 'Speed limit (20km/h)', '29': 'Bicycles crossing', '6': 'End of speed limit (80km/h)', '35': 'Ahead only', '21': 'Double curve', '36': 'Go straight or right', '33': 'Turn right ahead', '23': 'Slippery road', '26': 'Traffic signals', '19': 'Dangerous curve to the left', '38': 'Keep right'}\n"
     ]
    }
   ],
   "source": [
    "# read csv file\n",
    "import csv\n",
    "\n",
    "with open('signnames.csv', mode='r') as infile:\n",
    "    reader = csv.reader(infile)\n",
    "    labelDict = {rows[0]:rows[1] for rows in reader}\n",
    "del labelDict['ClassId']\n",
    "\n",
    "print(labelDict)"
   ]
  },
  {
   "cell_type": "code",
   "execution_count": 4,
   "metadata": {},
   "outputs": [
    {
     "name": "stdout",
     "output_type": "stream",
     "text": [
      "{'13': 1920, '3': 1260, '41': 210, '4': 1770, '27': 210, '24': 240, '31': 690, '12': 1890, '17': 990, '18': 1080, '23': 450, '9': 1320, '20': 300, '1': 1980, '11': 1170, '8': 1260, '34': 360, '25': 1350, '39': 270, '42': 210, '14': 690, '40': 300, '28': 480, '0': 180, '29': 240, '6': 360, '38': 1860, '37': 180, '35': 1080, '21': 270, '5': 1650, '32': 210, '15': 540, '30': 390, '16': 360, '36': 330, '33': 599, '22': 330, '10': 1800, '26': 540, '19': 180, '7': 1290, '2': 2010}\n"
     ]
    },
    {
     "data": {
      "image/png": "[encoded data removed]",
      "text/plain": [
       "<matplotlib.figure.Figure at 0x7f949b647048>"
      ]
     },
     "metadata": {},
     "output_type": "display_data"
    }
   ],
   "source": [
    "### Data exploration visualization code goes here.\n",
    "### Feel free to use as many code cells as needed.\n",
    "import matplotlib.pyplot as plt\n",
    "import numpy as np\n",
    "\n",
    "# Visualizations will be shown in the notebook.\n",
    "%matplotlib inline\n",
    "\n",
    "#y_train\n",
    "\n",
    "example_count_dict = {}\n",
    "for i in range(n_classes):\n",
    "    example_count_dict[str(i)] = 0\n",
    "\n",
    "for e in y_train:\n",
    "    example_count_dict[str(e)] = example_count_dict[str(e)] + 1\n",
    "print(example_count_dict)\n",
    "\n",
    "plt.bar(range(len(example_count_dict)), example_count_dict.values(), align='center')\n",
    "plt.xlabel('Sign Label')\n",
    "plt.ylabel('Number of Example')\n",
    "plt.title('German Traffic Signs Training Data Example')\n",
    "plt.show()\n",
    "\n"
   ]
  },
  {
   "cell_type": "markdown",
   "metadata": {},
   "source": [
    "----\n",
    "\n",
    "## Step 2: Design and Test a Model Architecture\n",
    "\n",
    "Design and implement a deep learning model that learns to recognize traffic signs. Train and test your model on the [German Traffic Sign Dataset](http://benchmark.ini.rub.de/?section=gtsrb&subsection=dataset).\n",
    "\n",
    "The LeNet-5 implementation shown in the [classroom](https://classroom.udacity.com/nanodegrees/nd013/parts/fbf77062-5703-404e-b60c-95b78b2f3f9e/modules/6df7ae49-c61c-4bb2-a23e-6527e69209ec/lessons/601ae704-1035-4287-8b11-e2c2716217ad/concepts/d4aca031-508f-4e0b-b493-e7b706120f81) at the end of the CNN lesson is a solid starting point. You'll have to change the number of classes and possibly the preprocessing, but aside from that it's plug and play! \n",
    "\n",
    "With the LeNet-5 solution from the lecture, you should expect a validation set accuracy of about 0.89. To meet specifications, the validation set accuracy will need to be at least 0.93. It is possible to get an even higher accuracy, but 0.93 is the minimum for a successful project submission. \n",
    "\n",
    "There are various aspects to consider when thinking about this problem:\n",
    "\n",
    "- Neural network architecture (is the network over or underfitting?)\n",
    "- Play around preprocessing techniques (normalization, rgb to grayscale, etc)\n",
    "- Number of examples per label (some have more than others).\n",
    "- Generate fake data.\n",
    "\n",
    "Here is an example of a [published baseline model on this problem](http://yann.lecun.com/exdb/publis/pdf/sermanet-ijcnn-11.pdf). It's not required to be familiar with the approach used in the paper but, it's good practice to try to read papers like these."
   ]
  },
  {
   "cell_type": "markdown",
   "metadata": {},
   "source": [
    "### Pre-process the Data Set (normalization, grayscale, etc.)"
   ]
  },
  {
   "cell_type": "markdown",
   "metadata": {},
   "source": [
    "Minimally, the image data should be normalized so that the data has mean zero and equal variance. For image data, `(pixel - 128)/ 128` is a quick way to approximately normalize the data and can be used in this project. \n",
    "\n",
    "Other pre-processing steps are optional. You can try different techniques to see if it improves performance. \n",
    "\n",
    "Use the code cell (or multiple code cells, if necessary) to implement the first step of your project."
   ]
  },
  {
   "cell_type": "code",
   "execution_count": 5,
   "metadata": {},
   "outputs": [
    {
     "data": {
      "text/plain": [
       "<matplotlib.image.AxesImage at 0x7f9497973940>"
      ]
     },
     "execution_count": 5,
     "metadata": {},
     "output_type": "execute_result"
    },
    {
     "data": {
      "image/png": "[encoded data removed]",
      "text/plain": [
       "<matplotlib.figure.Figure at 0x7f949b6520b8>"
      ]
     },
     "metadata": {},
     "output_type": "display_data"
    }
   ],
   "source": [
    "plt.imshow(X_train[600])"
   ]
  },
  {
   "cell_type": "code",
   "execution_count": 6,
   "metadata": {},
   "outputs": [
    {
     "name": "stdout",
     "output_type": "stream",
     "text": [
      "[[[[-0.80584927 -0.85006387 -0.86480207]\n",
      "   [-0.82058747 -0.86480207 -0.87954027]\n",
      "   [-0.82058747 -0.86480207 -0.89427848]\n",
      "   ..., \n",
      "   [-0.74689647 -0.80584927 -0.86480207]\n",
      "   [-0.76163467 -0.82058747 -0.85006387]\n",
      "   [-0.76163467 -0.82058747 -0.83532567]]\n",
      "\n",
      "  [[-0.79111107 -0.83532567 -0.85006387]\n",
      "   [-0.82058747 -0.85006387 -0.87954027]\n",
      "   [-0.82058747 -0.85006387 -0.87954027]\n",
      "   ..., \n",
      "   [-0.74689647 -0.80584927 -0.86480207]\n",
      "   [-0.76163467 -0.82058747 -0.86480207]\n",
      "   [-0.77637287 -0.82058747 -0.85006387]]\n",
      "\n",
      "  [[-0.80584927 -0.83532567 -0.83532567]\n",
      "   [-0.82058747 -0.85006387 -0.87954027]\n",
      "   [-0.83532567 -0.85006387 -0.87954027]\n",
      "   ..., \n",
      "   [-0.74689647 -0.80584927 -0.86480207]\n",
      "   [-0.76163467 -0.82058747 -0.86480207]\n",
      "   [-0.77637287 -0.82058747 -0.85006387]]\n",
      "\n",
      "  ..., \n",
      "  [[-0.82058747 -0.86480207 -0.87954027]\n",
      "   [-0.80584927 -0.85006387 -0.86480207]\n",
      "   [-0.77637287 -0.85006387 -0.86480207]\n",
      "   ..., \n",
      "   [-0.82058747 -0.86480207 -0.87954027]\n",
      "   [-0.80584927 -0.86480207 -0.89427848]\n",
      "   [-0.79111107 -0.85006387 -0.89427848]]\n",
      "\n",
      "  [[-0.80584927 -0.87954027 -0.87954027]\n",
      "   [-0.79111107 -0.86480207 -0.86480207]\n",
      "   [-0.76163467 -0.85006387 -0.86480207]\n",
      "   ..., \n",
      "   [-0.82058747 -0.86480207 -0.87954027]\n",
      "   [-0.80584927 -0.86480207 -0.89427848]\n",
      "   [-0.80584927 -0.86480207 -0.90901668]]\n",
      "\n",
      "  [[-0.79111107 -0.87954027 -0.87954027]\n",
      "   [-0.77637287 -0.86480207 -0.86480207]\n",
      "   [-0.74689647 -0.86480207 -0.87954027]\n",
      "   ..., \n",
      "   [-0.82058747 -0.86480207 -0.89427848]\n",
      "   [-0.82058747 -0.87954027 -0.90901668]\n",
      "   [-0.83532567 -0.89427848 -0.92375488]]]\n",
      "\n",
      "\n",
      " [[[-0.80584927 -0.86480207 -0.86480207]\n",
      "   [-0.83532567 -0.87954027 -0.87954027]\n",
      "   [-0.82058747 -0.86480207 -0.86480207]\n",
      "   ..., \n",
      "   [-0.76163467 -0.80584927 -0.83532567]\n",
      "   [-0.76163467 -0.80584927 -0.82058747]\n",
      "   [-0.74689647 -0.80584927 -0.82058747]]\n",
      "\n",
      "  [[-0.82058747 -0.86480207 -0.86480207]\n",
      "   [-0.82058747 -0.86480207 -0.86480207]\n",
      "   [-0.80584927 -0.85006387 -0.86480207]\n",
      "   ..., \n",
      "   [-0.76163467 -0.82058747 -0.85006387]\n",
      "   [-0.76163467 -0.82058747 -0.83532567]\n",
      "   [-0.73215827 -0.79111107 -0.82058747]]\n",
      "\n",
      "  [[-0.83532567 -0.86480207 -0.86480207]\n",
      "   [-0.83532567 -0.86480207 -0.86480207]\n",
      "   [-0.82058747 -0.86480207 -0.87954027]\n",
      "   ..., \n",
      "   [-0.76163467 -0.83532567 -0.85006387]\n",
      "   [-0.76163467 -0.82058747 -0.83532567]\n",
      "   [-0.73215827 -0.79111107 -0.82058747]]\n",
      "\n",
      "  ..., \n",
      "  [[-0.80584927 -0.85006387 -0.87954027]\n",
      "   [-0.77637287 -0.82058747 -0.86480207]\n",
      "   [-0.77637287 -0.82058747 -0.86480207]\n",
      "   ..., \n",
      "   [-0.82058747 -0.86480207 -0.89427848]\n",
      "   [-0.82058747 -0.86480207 -0.89427848]\n",
      "   [-0.80584927 -0.86480207 -0.89427848]]\n",
      "\n",
      "  [[-0.82058747 -0.86480207 -0.89427848]\n",
      "   [-0.79111107 -0.83532567 -0.87954027]\n",
      "   [-0.76163467 -0.83532567 -0.86480207]\n",
      "   ..., \n",
      "   [-0.83532567 -0.87954027 -0.90901668]\n",
      "   [-0.82058747 -0.86480207 -0.89427848]\n",
      "   [-0.80584927 -0.85006387 -0.87954027]]\n",
      "\n",
      "  [[-0.80584927 -0.86480207 -0.87954027]\n",
      "   [-0.80584927 -0.86480207 -0.89427848]\n",
      "   [-0.79111107 -0.86480207 -0.89427848]\n",
      "   ..., \n",
      "   [-0.82058747 -0.87954027 -0.89427848]\n",
      "   [-0.82058747 -0.86480207 -0.87954027]\n",
      "   [-0.79111107 -0.83532567 -0.85006387]]]\n",
      "\n",
      "\n",
      " [[[-0.79111107 -0.85006387 -0.85006387]\n",
      "   [-0.79111107 -0.83532567 -0.83532567]\n",
      "   [-0.77637287 -0.82058747 -0.82058747]\n",
      "   ..., \n",
      "   [-0.76163467 -0.82058747 -0.86480207]\n",
      "   [-0.76163467 -0.80584927 -0.85006387]\n",
      "   [-0.74689647 -0.79111107 -0.82058747]]\n",
      "\n",
      "  [[-0.82058747 -0.86480207 -0.86480207]\n",
      "   [-0.82058747 -0.85006387 -0.85006387]\n",
      "   [-0.80584927 -0.83532567 -0.83532567]\n",
      "   ..., \n",
      "   [-0.76163467 -0.82058747 -0.87954027]\n",
      "   [-0.74689647 -0.80584927 -0.85006387]\n",
      "   [-0.73215827 -0.77637287 -0.82058747]]\n",
      "\n",
      "  [[-0.82058747 -0.86480207 -0.86480207]\n",
      "   [-0.80584927 -0.83532567 -0.83532567]\n",
      "   [-0.79111107 -0.82058747 -0.82058747]\n",
      "   ..., \n",
      "   [-0.74689647 -0.80584927 -0.86480207]\n",
      "   [-0.74689647 -0.80584927 -0.86480207]\n",
      "   [-0.73215827 -0.79111107 -0.83532567]]\n",
      "\n",
      "  ..., \n",
      "  [[-0.80584927 -0.83532567 -0.89427848]\n",
      "   [-0.79111107 -0.83532567 -0.90901668]\n",
      "   [-0.76163467 -0.83532567 -0.89427848]\n",
      "   ..., \n",
      "   [-0.79111107 -0.86480207 -0.90901668]\n",
      "   [-0.80584927 -0.87954027 -0.92375488]\n",
      "   [-0.80584927 -0.87954027 -0.89427848]]\n",
      "\n",
      "  [[-0.82058747 -0.83532567 -0.87954027]\n",
      "   [-0.80584927 -0.85006387 -0.90901668]\n",
      "   [-0.77637287 -0.85006387 -0.89427848]\n",
      "   ..., \n",
      "   [-0.80584927 -0.87954027 -0.90901668]\n",
      "   [-0.82058747 -0.89427848 -0.92375488]\n",
      "   [-0.80584927 -0.86480207 -0.89427848]]\n",
      "\n",
      "  [[-0.79111107 -0.83532567 -0.87954027]\n",
      "   [-0.80584927 -0.86480207 -0.90901668]\n",
      "   [-0.79111107 -0.86480207 -0.90901668]\n",
      "   ..., \n",
      "   [-0.79111107 -0.85006387 -0.87954027]\n",
      "   [-0.80584927 -0.86480207 -0.89427848]\n",
      "   [-0.77637287 -0.83532567 -0.86480207]]]\n",
      "\n",
      "\n",
      " ..., \n",
      " [[[-0.46687066 -0.23105945  0.04896636]\n",
      "   [-0.40791786 -0.34896506 -0.17210665]\n",
      "   [-0.11315385 -0.02472464  0.13739556]\n",
      "   ..., \n",
      "   [ 2.46603125  2.43655485  2.36286384]\n",
      "   [ 1.83228862  1.90597963  2.21548184]\n",
      "   [ 0.56480338  0.49111238  0.84482919]]\n",
      "\n",
      "  [[-0.70268187 -0.59951446 -0.49634706]\n",
      "   [-0.51108526 -0.52582346 -0.46687066]\n",
      "   [ 0.12265736  0.19634836  0.44689777]\n",
      "   ..., \n",
      "   [ 2.02388523  2.08283803  2.11231443]\n",
      "   [ 1.272237    1.39014261  1.53752461]\n",
      "   [ 0.01948996  0.06370456  0.25530117]]\n",
      "\n",
      "  [[-0.82058747 -0.83532567 -0.79111107]\n",
      "   [-0.61425266 -0.65846727 -0.64372907]\n",
      "   [-0.40791786 -0.27527405 -0.06893925]\n",
      "   ..., \n",
      "   [ 0.57954158  0.88904379  1.1395932 ]\n",
      "   [ 0.21108656  0.31425397  0.68270898]\n",
      "   [-0.34896506 -0.34896506 -0.39317966]]\n",
      "\n",
      "  ..., \n",
      "  [[-0.86480207 -0.87954027 -0.82058747]\n",
      "   [-0.90901668 -0.92375488 -0.82058747]\n",
      "   [-0.92375488 -0.93849308 -0.89427848]\n",
      "   ..., \n",
      "   [-0.09841565 -0.05420104  0.00475176]\n",
      "   [-0.42265606 -0.27527405 -0.08367745]\n",
      "   [-0.55529986 -0.46687066 -0.26053585]]\n",
      "\n",
      "  [[-0.76163467 -0.76163467 -0.73215827]\n",
      "   [-0.89427848 -0.87954027 -0.79111107]\n",
      "   [-0.92375488 -0.95323128 -0.90901668]\n",
      "   ..., \n",
      "   [-0.24579765 -0.23105945  0.01948996]\n",
      "   [-0.39317966 -0.26053585 -0.12789205]\n",
      "   [-0.55529986 -0.40791786 -0.14263025]]\n",
      "\n",
      "  [[-0.80584927 -0.80584927 -0.77637287]\n",
      "   [-0.89427848 -0.90901668 -0.85006387]\n",
      "   [-0.93849308 -0.95323128 -0.93849308]\n",
      "   ..., \n",
      "   [-0.23105945 -0.29001225 -0.09841565]\n",
      "   [-0.64372907 -0.55529986 -0.40791786]\n",
      "   [-0.74689647 -0.67320547 -0.52582346]]]\n",
      "\n",
      "\n",
      " [[[-0.00998644 -0.06893925  0.19634836]\n",
      "   [ 0.55006518  0.63849438  0.96273479]\n",
      "   [ 0.43215957  0.62375618  0.93325839]\n",
      "   ..., \n",
      "   [ 1.50804821  1.46383361  1.39014261]\n",
      "   [ 1.78807402  1.87650323  1.95019423]\n",
      "   [ 0.72692358  0.46163597  0.56480338]]\n",
      "\n",
      "  [[-0.12789205 -0.08367745  0.15213376]\n",
      "   [ 1.3017134   1.34592801  1.50804821]\n",
      "   [ 0.80061459  1.198546    1.49331001]\n",
      "   ..., \n",
      "   [ 1.43435721  1.44909541  1.53752461]\n",
      "   [ 1.69964482  1.72912122  1.92071783]\n",
      "   [-0.05420104  0.03422816  0.03422816]]\n",
      "\n",
      "  [[-0.42265606 -0.48160886 -0.39317966]\n",
      "   [ 0.25530117  0.34373037  0.52058878]\n",
      "   [ 0.50585058  0.72692358  1.1101168 ]\n",
      "   ..., \n",
      "   [ 1.0953786   1.03642579  1.1395932 ]\n",
      "   [ 1.37540441  1.47857181  1.71438302]\n",
      "   [ 0.07844276 -0.03946284 -0.00998644]]\n",
      "\n",
      "  ..., \n",
      "  [[-0.89427848 -0.90901668 -0.89427848]\n",
      "   [-0.92375488 -0.93849308 -0.93849308]\n",
      "   [-0.95323128 -0.98270768 -0.93849308]\n",
      "   ..., \n",
      "   [-0.48160886 -0.48160886 -0.33422685]\n",
      "   [-0.67320547 -0.58477626 -0.45213246]\n",
      "   [-0.77637287 -0.61425266 -0.34896506]]\n",
      "\n",
      "  [[-0.95323128 -0.98270768 -0.95323128]\n",
      "   [-0.93849308 -0.96796948 -0.95323128]\n",
      "   [-0.93849308 -0.95323128 -0.90901668]\n",
      "   ..., \n",
      "   [-0.68794367 -0.57003806 -0.33422685]\n",
      "   [-0.73215827 -0.68794367 -0.51108526]\n",
      "   [-0.68794367 -0.58477626 -0.31948865]]\n",
      "\n",
      "  [[-0.95323128 -0.96796948 -0.92375488]\n",
      "   [-0.90901668 -0.92375488 -0.87954027]\n",
      "   [-0.86480207 -0.89427848 -0.85006387]\n",
      "   ..., \n",
      "   [-0.74689647 -0.71742007 -0.61425266]\n",
      "   [-0.55529986 -0.59951446 -0.51108526]\n",
      "   [-0.61425266 -0.58477626 -0.45213246]]]\n",
      "\n",
      "\n",
      " [[[-0.20158305 -0.05420104  0.19634836]\n",
      "   [-0.86480207 -0.83532567 -0.80584927]\n",
      "   [-0.62899087 -0.59951446 -0.55529986]\n",
      "   ..., \n",
      "   [ 2.09757623  2.23022004  2.27443464]\n",
      "   [ 1.00694939  1.1543314   1.2280224 ]\n",
      "   [ 1.198546    1.1690696   1.272237  ]]\n",
      "\n",
      "  [[ 0.24056297  0.40268317  0.62375618]\n",
      "   [-0.68794367 -0.61425266 -0.52582346]\n",
      "   [-0.29001225 -0.39317966 -0.30475045]\n",
      "   ..., \n",
      "   [ 1.68490662  1.96493243  2.08283803]\n",
      "   [ 1.051164    1.1838078   1.272237  ]\n",
      "   [ 1.198546    1.1838078   1.124855  ]]\n",
      "\n",
      "  [[ 0.31425397  0.35846857  0.44689777]\n",
      "   [-0.71742007 -0.67320547 -0.62899087]\n",
      "   [-0.15736845 -0.18684485 -0.08367745]\n",
      "   ..., \n",
      "   [ 2.06809983  2.27443464  2.24495824]\n",
      "   [ 1.44909541  1.61121562  1.69964482]\n",
      "   [ 1.2280224   1.2427606   1.124855  ]]\n",
      "\n",
      "  ..., \n",
      "  [[-0.90901668 -0.92375488 -0.87954027]\n",
      "   [-0.87954027 -0.86480207 -0.77637287]\n",
      "   [-0.93849308 -0.92375488 -0.86480207]\n",
      "   ..., \n",
      "   [-0.55529986 -0.52582346 -0.42265606]\n",
      "   [-0.36370326 -0.30475045 -0.18684485]\n",
      "   [-0.36370326 -0.18684485 -0.00998644]]\n",
      "\n",
      "  [[-0.95323128 -0.96796948 -0.90901668]\n",
      "   [-0.93849308 -0.93849308 -0.86480207]\n",
      "   [-0.95323128 -0.95323128 -0.87954027]\n",
      "   ..., \n",
      "   [-0.68794367 -0.68794367 -0.62899087]\n",
      "   [-0.36370326 -0.34896506 -0.18684485]\n",
      "   [-0.31948865 -0.20158305 -0.02472464]]\n",
      "\n",
      "  [[-0.96796948 -0.98270768 -0.93849308]\n",
      "   [-0.98270768 -0.99744588 -0.95323128]\n",
      "   [-0.98270768 -0.99744588 -0.95323128]\n",
      "   ..., \n",
      "   [-0.62899087 -0.62899087 -0.57003806]\n",
      "   [-0.37844146 -0.30475045 -0.14263025]\n",
      "   [-0.37844146 -0.21632125 -0.03946284]]]]\n"
     ]
    }
   ],
   "source": [
    "### Preprocess the data here. It is required to normalize the data. Other preprocessing steps could include \n",
    "### converting to grayscale, etc.\n",
    "### Feel free to use as many code cells as needed.\n",
    "import numpy as np\n",
    "\n",
    "# print (X_train.dtype)\n",
    "\n",
    "\n",
    "X_train = (X_train - np.mean(X_train)) / np.std(X_train)\n",
    "X_valid = (X_valid - np.mean(X_valid)) / np.std(X_valid)\n",
    "X_test = (X_test - np.mean(X_test)) / np.std(X_test)\n",
    "\n",
    "print((X_train))\n"
   ]
  },
  {
   "cell_type": "code",
   "execution_count": 7,
   "metadata": {},
   "outputs": [
    {
     "data": {
      "text/plain": [
       "<matplotlib.image.AxesImage at 0x7f94978ee978>"
      ]
     },
     "execution_count": 7,
     "metadata": {},
     "output_type": "execute_result"
    },
    {
     "data": {
      "image/png": "[encoded data removed]",
      "text/plain": [
       "<matplotlib.figure.Figure at 0x7f94979f5470>"
      ]
     },
     "metadata": {},
     "output_type": "display_data"
    }
   ],
   "source": [
    "plt.imshow(X_train[600])"
   ]
  },
  {
   "cell_type": "code",
   "execution_count": 8,
   "metadata": {},
   "outputs": [
    {
     "name": "stdout",
     "output_type": "stream",
     "text": [
      "{0, 1, 2, 3, 4, 5, 6, 7, 8, 9, 10, 11, 12, 13, 14, 15, 16, 17, 18, 19, 20, 21, 22, 23, 24, 25, 26, 27, 28, 29, 30, 31, 32, 33, 34, 35, 36, 37, 38, 39, 40, 41, 42}\n"
     ]
    }
   ],
   "source": [
    "print(set(y_valid))"
   ]
  },
  {
   "cell_type": "markdown",
   "metadata": {},
   "source": [
    "### Model Architecture"
   ]
  },
  {
   "cell_type": "code",
   "execution_count": 9,
   "metadata": {
    "collapsed": true
   },
   "outputs": [],
   "source": [
    "### Define your architecture here.\n",
    "### Feel free to use as many code cells as needed."
   ]
  },
  {
   "cell_type": "code",
   "execution_count": 10,
   "metadata": {
    "collapsed": true
   },
   "outputs": [],
   "source": [
    "# import necessary package\n",
    "import tensorflow as tf\n",
    "\n",
    "EPOCHS = 50\n",
    "BATCH_SIZE = 128"
   ]
  },
  {
   "cell_type": "code",
   "execution_count": 11,
   "metadata": {
    "collapsed": true
   },
   "outputs": [],
   "source": [
    "from tensorflow.contrib.layers import flatten\n",
    "\n",
    "def LeNet(x):    \n",
    "    # Hyperparameters\n",
    "    mu = 0\n",
    "    sigma = 0.1\n",
    "\n",
    "    # SOLUTION: Layer 1: Convolutional. Input = 32x32x1. Output = 28x28x6.\n",
    "    conv1_W = tf.Variable(tf.truncated_normal(shape=(5, 5, 3, 6), mean = mu, stddev = sigma))\n",
    "    conv1_b = tf.Variable(tf.zeros(6))\n",
    "    conv1   = tf.nn.conv2d(x, conv1_W, strides=[1, 1, 1, 1], padding='VALID') + conv1_b\n",
    "\n",
    "    # SOLUTION: Activation.\n",
    "    conv1 = tf.nn.relu(conv1)\n",
    "\n",
    "    # SOLUTION: Pooling. Input = 28x28x6. Output = 14x14x6.\n",
    "    conv1 = tf.nn.max_pool(conv1, ksize=[1, 2, 2, 1], strides=[1, 2, 2, 1], padding='VALID')\n",
    "\n",
    "    # SOLUTION: Layer 2: Convolutional. Output = 10x10x16.\n",
    "    conv2_W = tf.Variable(tf.truncated_normal(shape=(5, 5, 6, 16), mean = mu, stddev = sigma))\n",
    "    conv2_b = tf.Variable(tf.zeros(16))\n",
    "    conv2   = tf.nn.conv2d(conv1, conv2_W, strides=[1, 1, 1, 1], padding='VALID') + conv2_b\n",
    "\n",
    "    # SOLUTION: Activation.\n",
    "    conv2 = tf.nn.relu(conv2)\n",
    "\n",
    "    # SOLUTION: Pooling. Input = 10x10x16. Output = 5x5x16.\n",
    "    conv2 = tf.nn.max_pool(conv2, ksize=[1, 2, 2, 1], strides=[1, 2, 2, 1], padding='VALID')    \n",
    "    \n",
    "    # SOLUTION: Flatten. Input = 5x5x16. Output = 400.\n",
    "    fc0   = flatten(conv2)\n",
    "\n",
    "    # SOLUTION: Layer 3: Fully Connected. Input = 400. Output = 120.\n",
    "    fc1_W = tf.Variable(tf.truncated_normal(shape=(400, 600), mean = mu, stddev = sigma))\n",
    "    fc1_b = tf.Variable(tf.zeros(600))\n",
    "    fc1   = tf.matmul(fc0, fc1_W) + fc1_b\n",
    "\n",
    "    # SOLUTION: Activation.\n",
    "    fc1    = tf.nn.relu(fc1)\n",
    "    \n",
    "    # Added: Layer 4: Fully Connected. Input = 600. Output = 300.\n",
    "    a_fc1_W = tf.Variable(tf.truncated_normal(shape=(600, 300), mean = mu, stddev = sigma))\n",
    "    a_fc1_b = tf.Variable(tf.zeros(300))\n",
    "    a_fc1   = tf.matmul(fc1, a_fc1_W) + a_fc1_b\n",
    "\n",
    "    # SOLUTION: Activation.\n",
    "    a_fc1    = tf.nn.relu(a_fc1)\n",
    "\n",
    "    \n",
    "    # Modified: Layer 5: Fully Connected. Input = 300. Output = 84.\n",
    "    fc2_W  = tf.Variable(tf.truncated_normal(shape=(300, 84), mean = mu, stddev = sigma))\n",
    "    fc2_b  = tf.Variable(tf.zeros(84))\n",
    "    fc2    = tf.matmul(a_fc1, fc2_W) + fc2_b\n",
    "\n",
    "    # SOLUTION: Activation.\n",
    "    fc2    = tf.nn.relu(fc2)\n",
    "\n",
    "    # SOLUTION: Layer 6: Fully Connected. Input = 84. Output = n_classes.\n",
    "    fc3_W  = tf.Variable(tf.truncated_normal(shape=(84, n_classes), mean = mu, stddev = sigma))\n",
    "    fc3_b  = tf.Variable(tf.zeros(n_classes))\n",
    "    logits = tf.matmul(fc2, fc3_W) + fc3_b\n",
    "\n",
    "    return logits"
   ]
  },
  {
   "cell_type": "markdown",
   "metadata": {},
   "source": [
    "### Train, Validate and Test the Model"
   ]
  },
  {
   "cell_type": "markdown",
   "metadata": {},
   "source": [
    "A validation set can be used to assess how well the model is performing. A low accuracy on the training and validation\n",
    "sets imply underfitting. A high accuracy on the training set but low accuracy on the validation set implies overfitting."
   ]
  },
  {
   "cell_type": "code",
   "execution_count": 12,
   "metadata": {
    "collapsed": true
   },
   "outputs": [],
   "source": [
    "from sklearn.utils import shuffle\n",
    "\n",
    "x = tf.placeholder(tf.float32, (None, 32, 32, 3))\n",
    "y = tf.placeholder(tf.int32, (None))\n",
    "one_hot_y = tf.one_hot(y, n_classes)\n",
    "\n",
    "rate = 0.001\n",
    "\n",
    "logits = LeNet(x)\n",
    "cross_entropy = tf.nn.softmax_cross_entropy_with_logits(labels=one_hot_y, logits=logits)\n",
    "loss_operation = tf.reduce_mean(cross_entropy)\n",
    "optimizer = tf.train.AdamOptimizer(learning_rate = rate)\n",
    "training_operation = optimizer.minimize(loss_operation)"
   ]
  },
  {
   "cell_type": "code",
   "execution_count": 13,
   "metadata": {
    "collapsed": true
   },
   "outputs": [],
   "source": [
    "# Model evaluation\n",
    "correct_prediction = tf.equal(tf.argmax(logits, 1), tf.argmax(one_hot_y, 1))\n",
    "accuracy_operation = tf.reduce_mean(tf.cast(correct_prediction, tf.float32))\n",
    "saver = tf.train.Saver()\n",
    "\n",
    "def evaluate(X_data, y_data):\n",
    "    num_examples = len(X_data)\n",
    "    total_accuracy = 0\n",
    "    sess = tf.get_default_session()\n",
    "    for offset in range(0, num_examples, BATCH_SIZE):\n",
    "        batch_x, batch_y = X_data[offset:offset+BATCH_SIZE], y_data[offset:offset+BATCH_SIZE]\n",
    "        accuracy = sess.run(accuracy_operation, feed_dict={x: batch_x, y: batch_y})\n",
    "        total_accuracy += (accuracy * len(batch_x))\n",
    "    return total_accuracy / num_examples"
   ]
  },
  {
   "cell_type": "code",
   "execution_count": 14,
   "metadata": {},
   "outputs": [
    {
     "name": "stdout",
     "output_type": "stream",
     "text": [
      "Training...\n",
      "EPOCH 1 ...\n",
      "Trainning Accuracy = 0.918\n",
      "Validation Accuracy = 0.814\n",
      "EPOCH 2 ...\n",
      "Trainning Accuracy = 0.970\n",
      "Validation Accuracy = 0.869\n",
      "EPOCH 3 ...\n",
      "Trainning Accuracy = 0.978\n",
      "Validation Accuracy = 0.893\n",
      "EPOCH 4 ...\n",
      "Trainning Accuracy = 0.991\n",
      "Validation Accuracy = 0.900\n",
      "EPOCH 5 ...\n",
      "Trainning Accuracy = 0.994\n",
      "Validation Accuracy = 0.917\n",
      "EPOCH 6 ...\n",
      "Trainning Accuracy = 0.993\n",
      "Validation Accuracy = 0.900\n",
      "EPOCH 7 ...\n",
      "Trainning Accuracy = 0.970\n",
      "Validation Accuracy = 0.878\n",
      "EPOCH 8 ...\n",
      "Trainning Accuracy = 0.978\n",
      "Validation Accuracy = 0.889\n",
      "EPOCH 9 ...\n",
      "Trainning Accuracy = 0.991\n",
      "Validation Accuracy = 0.906\n",
      "EPOCH 10 ...\n",
      "Trainning Accuracy = 0.998\n",
      "Validation Accuracy = 0.927\n",
      "EPOCH 11 ...\n",
      "Trainning Accuracy = 0.992\n",
      "Validation Accuracy = 0.913\n",
      "EPOCH 12 ...\n",
      "Trainning Accuracy = 0.995\n",
      "Validation Accuracy = 0.917\n",
      "EPOCH 13 ...\n",
      "Trainning Accuracy = 0.996\n",
      "Validation Accuracy = 0.930\n",
      "EPOCH 14 ...\n",
      "Trainning Accuracy = 0.998\n",
      "Validation Accuracy = 0.937\n",
      "EPOCH 15 ...\n",
      "Trainning Accuracy = 0.998\n",
      "Validation Accuracy = 0.922\n",
      "EPOCH 16 ...\n",
      "Trainning Accuracy = 0.993\n",
      "Validation Accuracy = 0.907\n",
      "EPOCH 17 ...\n",
      "Trainning Accuracy = 0.999\n",
      "Validation Accuracy = 0.923\n",
      "EPOCH 18 ...\n",
      "Trainning Accuracy = 0.999\n",
      "Validation Accuracy = 0.927\n",
      "EPOCH 19 ...\n",
      "Trainning Accuracy = 0.998\n",
      "Validation Accuracy = 0.927\n",
      "EPOCH 20 ...\n",
      "Trainning Accuracy = 0.998\n",
      "Validation Accuracy = 0.927\n",
      "EPOCH 21 ...\n",
      "Trainning Accuracy = 0.998\n",
      "Validation Accuracy = 0.923\n",
      "EPOCH 22 ...\n",
      "Trainning Accuracy = 0.999\n",
      "Validation Accuracy = 0.926\n",
      "EPOCH 23 ...\n",
      "Trainning Accuracy = 1.000\n",
      "Validation Accuracy = 0.928\n",
      "EPOCH 24 ...\n",
      "Trainning Accuracy = 1.000\n",
      "Validation Accuracy = 0.935\n",
      "EPOCH 25 ...\n",
      "Trainning Accuracy = 1.000\n",
      "Validation Accuracy = 0.935\n",
      "EPOCH 26 ...\n",
      "Trainning Accuracy = 1.000\n",
      "Validation Accuracy = 0.936\n",
      "EPOCH 27 ...\n",
      "Trainning Accuracy = 1.000\n",
      "Validation Accuracy = 0.936\n",
      "EPOCH 28 ...\n",
      "Trainning Accuracy = 1.000\n",
      "Validation Accuracy = 0.935\n",
      "EPOCH 29 ...\n",
      "Trainning Accuracy = 1.000\n",
      "Validation Accuracy = 0.936\n",
      "EPOCH 30 ...\n",
      "Trainning Accuracy = 1.000\n",
      "Validation Accuracy = 0.936\n",
      "EPOCH 31 ...\n",
      "Trainning Accuracy = 1.000\n",
      "Validation Accuracy = 0.936\n",
      "EPOCH 32 ...\n",
      "Trainning Accuracy = 1.000\n",
      "Validation Accuracy = 0.936\n",
      "EPOCH 33 ...\n",
      "Trainning Accuracy = 1.000\n",
      "Validation Accuracy = 0.937\n",
      "EPOCH 34 ...\n",
      "Trainning Accuracy = 1.000\n",
      "Validation Accuracy = 0.937\n",
      "EPOCH 35 ...\n",
      "Trainning Accuracy = 1.000\n",
      "Validation Accuracy = 0.938\n",
      "EPOCH 36 ...\n",
      "Trainning Accuracy = 1.000\n",
      "Validation Accuracy = 0.937\n",
      "EPOCH 37 ...\n",
      "Trainning Accuracy = 1.000\n",
      "Validation Accuracy = 0.937\n",
      "EPOCH 38 ...\n",
      "Trainning Accuracy = 1.000\n",
      "Validation Accuracy = 0.937\n",
      "EPOCH 39 ...\n",
      "Trainning Accuracy = 1.000\n",
      "Validation Accuracy = 0.937\n",
      "EPOCH 40 ...\n",
      "Trainning Accuracy = 1.000\n",
      "Validation Accuracy = 0.937\n",
      "EPOCH 41 ...\n",
      "Trainning Accuracy = 1.000\n",
      "Validation Accuracy = 0.937\n",
      "EPOCH 42 ...\n",
      "Trainning Accuracy = 1.000\n",
      "Validation Accuracy = 0.937\n",
      "EPOCH 43 ...\n",
      "Trainning Accuracy = 1.000\n",
      "Validation Accuracy = 0.937\n",
      "EPOCH 44 ...\n",
      "Trainning Accuracy = 1.000\n",
      "Validation Accuracy = 0.937\n",
      "EPOCH 45 ...\n",
      "Trainning Accuracy = 1.000\n",
      "Validation Accuracy = 0.938\n",
      "EPOCH 46 ...\n",
      "Trainning Accuracy = 1.000\n",
      "Validation Accuracy = 0.938\n",
      "EPOCH 47 ...\n",
      "Trainning Accuracy = 1.000\n",
      "Validation Accuracy = 0.938\n",
      "EPOCH 48 ...\n",
      "Trainning Accuracy = 1.000\n",
      "Validation Accuracy = 0.937\n",
      "EPOCH 49 ...\n",
      "Trainning Accuracy = 1.000\n",
      "Validation Accuracy = 0.939\n",
      "EPOCH 50 ...\n",
      "Trainning Accuracy = 1.000\n",
      "Validation Accuracy = 0.938\n",
      "Model saved\n"
     ]
    }
   ],
   "source": [
    "### Train your model here.\n",
    "### Calculate and report the accuracy on the training and validation set.\n",
    "### Once a final model architecture is selected, \n",
    "### the accuracy on the test set should be calculated and reported as well.\n",
    "### Feel free to use as many code cells as needed.\n",
    "with tf.Session() as sess:\n",
    "    sess.run(tf.global_variables_initializer())\n",
    "    num_examples = len(X_train)\n",
    "    \n",
    "    print(\"Training...\")\n",
    "    for i in range(EPOCHS):\n",
    "        X_train, y_train = shuffle(X_train, y_train)\n",
    "        for offset in range(0, num_examples, BATCH_SIZE):\n",
    "            end = offset + BATCH_SIZE\n",
    "            batch_x, batch_y = X_train[offset:end], y_train[offset:end]\n",
    "            sess.run(training_operation, feed_dict={x: batch_x, y: batch_y})\n",
    "        \n",
    "        train_accuracy = evaluate(X_train, y_train)\n",
    "        validation_accuracy = evaluate(X_valid, y_valid)\n",
    "        print(\"EPOCH {} ...\".format(i+1))\n",
    "        print(\"Trainning Accuracy = {:.3f}\".format(train_accuracy))\n",
    "        print(\"Validation Accuracy = {:.3f}\".format(validation_accuracy))\n",
    "        \n",
    "    saver.save(sess, './lenet')\n",
    "    print(\"Model saved\")"
   ]
  },
  {
   "cell_type": "code",
   "execution_count": 15,
   "metadata": {},
   "outputs": [
    {
     "name": "stdout",
     "output_type": "stream",
     "text": [
      "Test Accuracy = 0.932\n"
     ]
    }
   ],
   "source": [
    "#test set accurary\n",
    "with tf.Session() as sess:\n",
    "    saver.restore(sess, tf.train.latest_checkpoint('.'))\n",
    "    test_accuracy = evaluate(X_test, y_test)\n",
    "    print(\"Test Accuracy = {:.3f}\".format(test_accuracy))"
   ]
  },
  {
   "cell_type": "markdown",
   "metadata": {},
   "source": [
    "---\n",
    "\n",
    "## Step 3: Test a Model on New Images\n",
    "\n",
    "To give yourself more insight into how your model is working, download at least five pictures of German traffic signs from the web and use your model to predict the traffic sign type.\n",
    "\n",
    "You may find `signnames.csv` useful as it contains mappings from the class id (integer) to the actual sign name."
   ]
  },
  {
   "cell_type": "markdown",
   "metadata": {},
   "source": [
    "### Load and Output the Images"
   ]
  },
  {
   "cell_type": "code",
   "execution_count": 16,
   "metadata": {},
   "outputs": [
    {
     "name": "stdout",
     "output_type": "stream",
     "text": [
      "web_images/31.jpeg\n",
      "web_images/1.jpeg\n",
      "web_images/12.jpeg\n",
      "web_images/15.jpeg\n",
      "web_images/25.jpeg\n",
      "['31', '1', '12', '15', '25']\n"
     ]
    },
    {
     "data": {
      "image/png": "[encoded data removed]",
      "text/plain": [
       "<matplotlib.figure.Figure at 0x7f9459b11828>"
      ]
     },
     "metadata": {},
     "output_type": "display_data"
    }
   ],
   "source": [
    "### Load the images and plot them here.\n",
    "### Feel free to use as many code cells as needed.\n",
    "import matplotlib.image as mpimg\n",
    "import os\n",
    "directory = 'web_images/'\n",
    "img_list = os.listdir(directory)\n",
    "images = []\n",
    "y_webImage=[] \n",
    "for i in range((len(img_list))):\n",
    "    img = mpimg.imread(directory + img_list[i])\n",
    "    print(directory + img_list[i])\n",
    "    images.append(img)\n",
    "    y_webImage.append(img_list[i].split(\".\")[0])\n",
    "print(y_webImage)\n",
    "    \n",
    "web_images = np.asarray(images)\n",
    "figure = plt.figure(figsize=(16,16))\n",
    "for i in range(len(images)):\n",
    "    img = web_images[i]\n",
    "    ax = figure.add_subplot(2,3,i + 1) \n",
    "    ax.imshow(img, interpolation='none')\n",
    "    ax.set_title(str(i + 1) + ' - ' + labelDict[str(y_webImage[i])])\n",
    "\n",
    "\n",
    "plt.show()\n"
   ]
  },
  {
   "cell_type": "code",
   "execution_count": 17,
   "metadata": {},
   "outputs": [
    {
     "name": "stdout",
     "output_type": "stream",
     "text": [
      "5\n"
     ]
    }
   ],
   "source": [
    "# Preprocess the web image data\n",
    "X_webImages = (web_images - np.mean(web_images))/np.std(web_images)\n",
    "print(len(X_webImages))"
   ]
  },
  {
   "cell_type": "markdown",
   "metadata": {},
   "source": [
    "### Predict the Sign Type for Each Image"
   ]
  },
  {
   "cell_type": "code",
   "execution_count": 18,
   "metadata": {},
   "outputs": [
    {
     "name": "stdout",
     "output_type": "stream",
     "text": [
      "[12  1 12 15 25]\n"
     ]
    }
   ],
   "source": [
    "### Run the predictions here and use the model to output the prediction for each image.\n",
    "### Make sure to pre-process the images with the same pre-processing pipeline used earlier.\n",
    "### Feel free to use as many code cells as needed.\n",
    "\n",
    "predict_operation = tf.argmax(logits, 1)\n",
    "with tf.Session() as sess:\n",
    "    saver.restore(sess, tf.train.latest_checkpoint('.'))\n",
    "    y_predict = sess.run(predict_operation, feed_dict={x: X_webImages})\n",
    "    \n",
    "print(y_predict)\n"
   ]
  },
  {
   "cell_type": "code",
   "execution_count": 19,
   "metadata": {},
   "outputs": [
    {
     "data": {
      "image/png": "[encoded data removed]",
      "text/plain": [
       "<matplotlib.figure.Figure at 0x7f940f303550>"
      ]
     },
     "metadata": {},
     "output_type": "display_data"
    }
   ],
   "source": [
    "figure = plt.figure(figsize=(16,16))\n",
    "for i in range(len(images)):\n",
    "    img = web_images[i]\n",
    "    ax = figure.add_subplot(2,3,i + 1) \n",
    "    ax.imshow(img, interpolation='none')\n",
    "    ax.set_title(str(i + 1) + ' - ' + labelDict[str(y_predict[i])])\n",
    "\n",
    "plt.show()"
   ]
  },
  {
   "cell_type": "markdown",
   "metadata": {},
   "source": [
    "### Analyze Performance"
   ]
  },
  {
   "cell_type": "code",
   "execution_count": 20,
   "metadata": {},
   "outputs": [
    {
     "name": "stdout",
     "output_type": "stream",
     "text": [
      "[16  1 38 ...,  6  7 10]\n",
      "Test Accuracy = 0.800\n"
     ]
    }
   ],
   "source": [
    "### Calculate the accuracy for these 5 new images. \n",
    "### For example, if the model predicted 1 out of 5 signs correctly, it's 20% accurate on these new images.\n",
    "print(y_test)\n",
    "with tf.Session() as sess:\n",
    "    saver.restore(sess, tf.train.latest_checkpoint('.'))\n",
    "    test_accuracy = evaluate(X_webImages, y_webImage)\n",
    "    print(\"Test Accuracy = {:.3f}\".format(test_accuracy))"
   ]
  },
  {
   "cell_type": "markdown",
   "metadata": {},
   "source": [
    "### Output Top 5 Softmax Probabilities For Each Image Found on the Web"
   ]
  },
  {
   "cell_type": "markdown",
   "metadata": {},
   "source": [
    "For each of the new images, print out the model's softmax probabilities to show the **certainty** of the model's predictions (limit the output to the top 5 probabilities for each image). [`tf.nn.top_k`](https://www.tensorflow.org/versions/r0.12/api_docs/python/nn.html#top_k) could prove helpful here. \n",
    "\n",
    "The example below demonstrates how tf.nn.top_k can be used to find the top k predictions for each image.\n",
    "\n",
    "`tf.nn.top_k` will return the values and indices (class ids) of the top k predictions. So if k=3, for each sign, it'll return the 3 largest probabilities (out of a possible 43) and the correspoding class ids.\n",
    "\n",
    "Take this numpy array as an example. The values in the array represent predictions. The array contains softmax probabilities for five candidate images with six possible classes. `tf.nn.top_k` is used to choose the three classes with the highest probability:\n",
    "\n",
    "```\n",
    "# (5, 6) array\n",
    "a = np.array([[ 0.24879643,  0.07032244,  0.12641572,  0.34763842,  0.07893497,\n",
    "         0.12789202],\n",
    "       [ 0.28086119,  0.27569815,  0.08594638,  0.0178669 ,  0.18063401,\n",
    "         0.15899337],\n",
    "       [ 0.26076848,  0.23664738,  0.08020603,  0.07001922,  0.1134371 ,\n",
    "         0.23892179],\n",
    "       [ 0.11943333,  0.29198961,  0.02605103,  0.26234032,  0.1351348 ,\n",
    "         0.16505091],\n",
    "       [ 0.09561176,  0.34396535,  0.0643941 ,  0.16240774,  0.24206137,\n",
    "         0.09155967]])\n",
    "```\n",
    "\n",
    "Running it through `sess.run(tf.nn.top_k(tf.constant(a), k=3))` produces:\n",
    "\n",
    "```\n",
    "TopKV2(values=array([[ 0.34763842,  0.24879643,  0.12789202],\n",
    "       [ 0.28086119,  0.27569815,  0.18063401],\n",
    "       [ 0.26076848,  0.23892179,  0.23664738],\n",
    "       [ 0.29198961,  0.26234032,  0.16505091],\n",
    "       [ 0.34396535,  0.24206137,  0.16240774]]), indices=array([[3, 0, 5],\n",
    "       [0, 1, 4],\n",
    "       [0, 5, 1],\n",
    "       [1, 3, 5],\n",
    "       [1, 4, 3]], dtype=int32))\n",
    "```\n",
    "\n",
    "Looking just at the first row we get `[ 0.34763842,  0.24879643,  0.12789202]`, you can confirm these are the 3 largest probabilities in `a`. You'll also notice `[3, 0, 5]` are the corresponding indices."
   ]
  },
  {
   "cell_type": "code",
   "execution_count": 21,
   "metadata": {},
   "outputs": [
    {
     "name": "stdout",
     "output_type": "stream",
     "text": [
      "TopKV2(values=array([[  1.00000000e+00,   2.04063985e-17,   1.90822564e-18,\n",
      "          5.20815554e-24,   9.85480049e-25],\n",
      "       [  1.00000000e+00,   3.63689588e-14,   3.41975343e-15,\n",
      "          1.44834236e-20,   1.72675006e-24],\n",
      "       [  1.00000000e+00,   1.73443076e-28,   1.65967028e-29,\n",
      "          3.40007110e-31,   1.29096325e-33],\n",
      "       [  9.99998450e-01,   1.24114820e-06,   2.89329421e-07,\n",
      "          5.40504175e-08,   4.30276037e-09],\n",
      "       [  9.98869359e-01,   9.30006267e-04,   1.92638836e-04,\n",
      "          7.64151355e-06,   3.45839538e-07]], dtype=float32), indices=array([[12, 26, 31,  2, 14],\n",
      "       [ 1,  0,  4,  2,  8],\n",
      "       [12, 41, 14, 17, 38],\n",
      "       [15,  5,  8,  4,  1],\n",
      "       [25, 30,  7, 28, 26]], dtype=int32))\n"
     ]
    }
   ],
   "source": [
    "### Print out the top five softmax probabilities for the predictions on the German traffic sign images found on the web. \n",
    "### Feel free to use as many code cells as needed.\n",
    "\n",
    "softmax = tf.nn.softmax(logits)\n",
    "top_5 = tf.nn.top_k(softmax, k = 5)\n",
    "\n",
    "with tf.Session() as sess:\n",
    "    saver.restore(sess, tf.train.latest_checkpoint('.'))\n",
    "    top_5_out = sess.run(top_5, feed_dict={x: X_webImages})\n",
    "print(top_5_out)\n"
   ]
  },
  {
   "cell_type": "code",
   "execution_count": 22,
   "metadata": {},
   "outputs": [
    {
     "data": {
      "text/plain": [
       "array([[12, 26, 31,  2, 14],\n",
       "       [ 1,  0,  4,  2,  8],\n",
       "       [12, 41, 14, 17, 38],\n",
       "       [15,  5,  8,  4,  1],\n",
       "       [25, 30,  7, 28, 26]], dtype=int32)"
      ]
     },
     "execution_count": 22,
     "metadata": {},
     "output_type": "execute_result"
    }
   ],
   "source": [
    "top_5_out.indices"
   ]
  },
  {
   "cell_type": "markdown",
   "metadata": {},
   "source": [
    "### Project Writeup\n",
    "\n",
    "Once you have completed the code implementation, document your results in a project writeup using this [template](https://github.com/udacity/CarND-Traffic-Sign-Classifier-Project/blob/master/writeup_template.md) as a guide. The writeup can be in a markdown or pdf file. "
   ]
  },
  {
   "cell_type": "markdown",
   "metadata": {},
   "source": [
    "> **Note**: Once you have completed all of the code implementations and successfully answered each question above, you may finalize your work by exporting the iPython Notebook as an HTML document. You can do this by using the menu above and navigating to  \\n\",\n",
    "    \"**File -> Download as -> HTML (.html)**. Include the finished document along with this notebook as your submission."
   ]
  },
  {
   "cell_type": "markdown",
   "metadata": {},
   "source": [
    "---\n",
    "\n",
    "## Step 4 (Optional): Visualize the Neural Network's State with Test Images\n",
    "\n",
    " This Section is not required to complete but acts as an additional excersise for understaning the output of a neural network's weights. While neural networks can be a great learning device they are often referred to as a black box. We can understand what the weights of a neural network look like better by plotting their feature maps. After successfully training your neural network you can see what it's feature maps look like by plotting the output of the network's weight layers in response to a test stimuli image. From these plotted feature maps, it's possible to see what characteristics of an image the network finds interesting. For a sign, maybe the inner network feature maps react with high activation to the sign's boundary outline or to the contrast in the sign's painted symbol.\n",
    "\n",
    " Provided for you below is the function code that allows you to get the visualization output of any tensorflow weight layer you want. The inputs to the function should be a stimuli image, one used during training or a new one you provided, and then the tensorflow variable name that represents the layer's state during the training process, for instance if you wanted to see what the [LeNet lab's](https://classroom.udacity.com/nanodegrees/nd013/parts/fbf77062-5703-404e-b60c-95b78b2f3f9e/modules/6df7ae49-c61c-4bb2-a23e-6527e69209ec/lessons/601ae704-1035-4287-8b11-e2c2716217ad/concepts/d4aca031-508f-4e0b-b493-e7b706120f81) feature maps looked like for it's second convolutional layer you could enter conv2 as the tf_activation variable.\n",
    "\n",
    "For an example of what feature map outputs look like, check out NVIDIA's results in their paper [End-to-End Deep Learning for Self-Driving Cars](https://devblogs.nvidia.com/parallelforall/deep-learning-self-driving-cars/) in the section Visualization of internal CNN State. NVIDIA was able to show that their network's inner weights had high activations to road boundary lines by comparing feature maps from an image with a clear path to one without. Try experimenting with a similar test to show that your trained network's weights are looking for interesting features, whether it's looking at differences in feature maps from images with or without a sign, or even what feature maps look like in a trained network vs a completely untrained one on the same sign image.\n",
    "\n",
    "<figure>\n",
    " <img src=\"visualize_cnn.png\" width=\"380\" alt=\"Combined Image\" />\n",
    " <figcaption>\n",
    " <p></p> \n",
    " <p style=\"text-align: center;\"> Your output should look something like this (above)</p> \n",
    " </figcaption>\n",
    "</figure>\n",
    " <p></p> \n"
   ]
  },
  {
   "cell_type": "code",
   "execution_count": 23,
   "metadata": {
    "collapsed": true
   },
   "outputs": [],
   "source": [
    "### Visualize your network's feature maps here.\n",
    "### Feel free to use as many code cells as needed.\n",
    "\n",
    "# image_input: the test image being fed into the network to produce the feature maps\n",
    "# tf_activation: should be a tf variable name used during your training procedure that represents the calculated state of a specific weight layer\n",
    "# activation_min/max: can be used to view the activation contrast in more detail, by default matplot sets min and max to the actual min and max values of the output\n",
    "# plt_num: used to plot out multiple different weight feature map sets on the same block, just extend the plt number for each new feature map entry\n",
    "\n",
    "def outputFeatureMap(image_input, tf_activation, activation_min=-1, activation_max=-1 ,plt_num=1):\n",
    "    # Here make sure to preprocess your image_input in a way your network expects\n",
    "    # with size, normalization, ect if needed\n",
    "    # image_input =\n",
    "    # Note: x should be the same name as your network's tensorflow data placeholder variable\n",
    "    # If you get an error tf_activation is not defined it may be having trouble accessing the variable from inside a function\n",
    "    activation = tf_activation.eval(session=sess,feed_dict={x : image_input})\n",
    "    featuremaps = activation.shape[3]\n",
    "    plt.figure(plt_num, figsize=(15,15))\n",
    "    for featuremap in range(featuremaps):\n",
    "        plt.subplot(6,8, featuremap+1) # sets the number of feature maps to show on each row and column\n",
    "        plt.title('FeatureMap ' + str(featuremap)) # displays the feature map number\n",
    "        if activation_min != -1 & activation_max != -1:\n",
    "            plt.imshow(activation[0,:,:, featuremap], interpolation=\"nearest\", vmin =activation_min, vmax=activation_max, cmap=\"gray\")\n",
    "        elif activation_max != -1:\n",
    "            plt.imshow(activation[0,:,:, featuremap], interpolation=\"nearest\", vmax=activation_max, cmap=\"gray\")\n",
    "        elif activation_min !=-1:\n",
    "            plt.imshow(activation[0,:,:, featuremap], interpolation=\"nearest\", vmin=activation_min, cmap=\"gray\")\n",
    "        else:\n",
    "            plt.imshow(activation[0,:,:, featuremap], interpolation=\"nearest\", cmap=\"gray\")"
   ]
  },
  {
   "cell_type": "code",
   "execution_count": null,
   "metadata": {
    "collapsed": true
   },
   "outputs": [],
   "source": []
  }
 ],
 "metadata": {
  "anaconda-cloud": {},
  "kernelspec": {
   "display_name": "Python 3",
   "language": "python",
   "name": "python3"
  },
  "language_info": {
   "codemirror_mode": {
    "name": "ipython",
    "version": 3
   },
   "file_extension": ".py",
   "mimetype": "text/x-python",
   "name": "python",
   "nbconvert_exporter": "python",
   "pygments_lexer": "ipython3",
   "version": "3.5.2"
  },
  "widgets": {
   "state": {},
   "version": "1.1.2"
  }
 },
 "nbformat": 4,
 "nbformat_minor": 1
}
